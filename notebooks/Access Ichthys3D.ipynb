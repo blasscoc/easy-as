{
 "cells": [
  {
   "cell_type": "code",
   "execution_count": 1,
   "metadata": {},
   "outputs": [],
   "source": [
    "%%capture\n",
    "!pip install zarr\n",
    "!pip install s3fs\n",
    "!pip install matplotlib\n",
    "!pip install shapely\n",
    "!pip install numcodecs\n"
   ]
  },
  {
   "cell_type": "code",
   "execution_count": 2,
   "metadata": {},
   "outputs": [],
   "source": [
    "import matplotlib.pylab as plt\n",
    "import numpy as np\n",
    "import s3fs\n",
    "import zarr\n",
    "from numcodecs import LZMA, Blosc\n",
    "from ipyleaflet import Map"
   ]
  },
  {
   "cell_type": "markdown",
   "metadata": {},
   "source": [
    "We believe that AI should be a tool we can all just use now. And that it should be just \n",
    "easy-as to go grab some data and experiment/learn. Geophysical data doesn't always \n",
    "fit the bill, so we made this notebook. Enjoy!\n",
    "\n",
    "The Ichthys3D is for the \"2020 FORCE Machine Learning Contest\"\n",
    "\n",
    "https://xeek.ai/challenges/force-seismic/rules\n",
    "\n",
    "This data for Ichthys field data is provided Geoscience Australia under CC-BY 4.0.\n",
    "\n",
    "The \"Ichthys 3D seismic for fault competition\" segy data has been converted to ZArr, \n",
    "this notebook provides an example. "
   ]
  },
  {
   "cell_type": "code",
   "execution_count": 3,
   "metadata": {},
   "outputs": [],
   "source": [
    "# Location of the segy data in \"ZArr format\"\n",
    "segy_path='s3://zarr-depot/seismic/Ichthys3D/Ichthys 3D seismic for fault competition'"
   ]
  },
  {
   "cell_type": "code",
   "execution_count": 4,
   "metadata": {},
   "outputs": [],
   "source": [
    "# complicated stuff to access the data\n",
    "client = s3fs.S3FileSystem(anon=True)\n",
    "store = s3fs.S3Map(\n",
    "    root=segy_path,\n",
    "    s3=client, \n",
    "    check=False)\n",
    "cache = zarr.LRUStoreCache(store, max_size=2**28)\n",
    "# contains the seqy data for Ichthys3D\n",
    "segy_data = zarr.open_group(store=cache, mode='r')"
   ]
  },
  {
   "cell_type": "code",
   "execution_count": 5,
   "metadata": {},
   "outputs": [
    {
     "data": {
      "text/plain": [
       "['coordinates',\n",
       " 'indptr',\n",
       " 'inline',\n",
       " 'inlines',\n",
       " 'map_inline_ends',\n",
       " 'map_latitude',\n",
       " 'map_longitude',\n",
       " 'map_xline_ends',\n",
       " 'trace_inlines',\n",
       " 'trace_xlines',\n",
       " 'xline',\n",
       " 'xlines']"
      ]
     },
     "execution_count": 5,
     "metadata": {},
     "output_type": "execute_result"
    }
   ],
   "source": [
    "# contents:\n",
    "[i for i in segy_data.keys()]"
   ]
  },
  {
   "cell_type": "code",
   "execution_count": 6,
   "metadata": {},
   "outputs": [
    {
     "name": "stdout",
     "output_type": "stream",
     "text": [
      "inline range :  1001 3400\n",
      "xline range :  2040 3040\n"
     ]
    }
   ],
   "source": [
    "print (\"inline range : \", segy_data['inlines'][:].min(), segy_data['inlines'][:].max())\n",
    "print (\"xline range : \", segy_data['xlines'][:].min(), segy_data['xlines'][:].max())"
   ]
  },
  {
   "cell_type": "code",
   "execution_count": null,
   "metadata": {},
   "outputs": [],
   "source": [
    "def clip(img):\n",
    "    \"\"\"Standardize contrast\"\"\"\n",
    "    img = img - np.mean(img)\n",
    "    return img/np.std(img)\n",
    "\n",
    "# These are 8-bit unsigned ints\n",
    "plt.figure(figsize=(12,6))\n",
    "plt.imshow(clip(segy_data['xline'][...,2222].T), cmap='gray', vmin=-2, vmax=2)\n",
    "plt.show()\n",
    "\n",
    "# slice data in the xline/inline direction\n",
    "# Dead traces padded with 0's\n",
    "plt.figure(figsize=(12,6))\n",
    "plt.imshow(clip(segy_data['inline'][...,1499].T), cmap='gray', vmin=-2, vmax=2)\n",
    "plt.show()"
   ]
  },
  {
   "cell_type": "code",
   "execution_count": null,
   "metadata": {},
   "outputs": [],
   "source": [
    "%%timeit\n",
    "x = segy_data['xline'][...,2400:2420]"
   ]
  },
  {
   "cell_type": "markdown",
   "metadata": {},
   "source": [
    "### Geospatial data\n",
    "Some geospatial data is included in the segy data. The cell below just renders a shapely polygon (latitude, longitude) bounding the survey. If you want to see a map, there is some \n",
    "more advanced configuration required. "
   ]
  },
  {
   "cell_type": "code",
   "execution_count": null,
   "metadata": {},
   "outputs": [],
   "source": [
    "from shapely.geometry import Polygon\n",
    "# lat/lon bounding the survey\n",
    "lati, longi = segy_data['map_latitude'][:], segy_data['map_longitude'][:]\n",
    "points = list(zip(lati, longi))\n",
    "Polygon(points)"
   ]
  },
  {
   "cell_type": "markdown",
   "metadata": {},
   "source": [
    "### Advanced config\n",
    "\n",
    "If you don't see a map appear, then you need some advanced config.\n",
    "You'll only need to do this one time. \n",
    "\n",
    "Stop your notebook, and from the terminal, run these commands in order: \n",
    "\n",
    "**pip install ipyleaflet**\n",
    "\n",
    "**jupyter nbextension enable --py --sys-prefix ipyleaflet**\n",
    "\n",
    "**jupyter notebook**\n",
    "\n",
    "This will add dependencies and restart the notebook with the ability to \n",
    "render the map below the cell following.\n",
    "\n",
    "If everything worked you should see the top-end of 'Straya, and a red box which is\n",
    "the survey.\n"
   ]
  },
  {
   "cell_type": "code",
   "execution_count": null,
   "metadata": {},
   "outputs": [],
   "source": [
    "# for this to run, install ipyleaflet on command-line (see above)\n",
    "from ipyleaflet import Map, Marker, Polygon, basemaps, basemap_to_tiles\n",
    "\n",
    "m = Map(\n",
    "    basemap=basemaps.Esri.WorldImagery,\n",
    "    center=np.median(points, axis=0).tolist(),\n",
    "    zoom=4\n",
    ")\n",
    "\n",
    "polygon = Polygon(\n",
    "    locations=points,\n",
    "    color=\"red\",\n",
    "    fill_color=\"green\"\n",
    ")\n",
    "\n",
    "#m.add_layer(Marker(location=(52.204793, 360.121558)))\n",
    "m.add_layer(polygon)\n",
    "m"
   ]
  }
 ],
 "metadata": {
  "kernelspec": {
   "display_name": "Python 3",
   "language": "python",
   "name": "python3"
  },
  "language_info": {
   "codemirror_mode": {
    "name": "ipython",
    "version": 3
   },
   "file_extension": ".py",
   "mimetype": "text/x-python",
   "name": "python",
   "nbconvert_exporter": "python",
   "pygments_lexer": "ipython3",
   "version": "3.6.10"
  }
 },
 "nbformat": 4,
 "nbformat_minor": 2
}
